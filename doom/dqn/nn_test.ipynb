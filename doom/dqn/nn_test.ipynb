{
 "cells": [
  {
   "cell_type": "code",
   "execution_count": 4,
   "metadata": {},
   "outputs": [],
   "source": [
    "import torch\n",
    "import torch.nn as nn\n",
    "import torch.nn.functional as F"
   ]
  },
  {
   "cell_type": "code",
   "execution_count": 7,
   "metadata": {},
   "outputs": [],
   "source": [
    "class Flatten(nn.Module):\n",
    "    def forward(self, input):\n",
    "        return input.view(input.size(0), -1)\n",
    "\n",
    "# arch: {conv -> conv -> conv -> flatten -> fc -> fc -> q-values for actions}\n",
    "class CNN(nn.Module):\n",
    "    \n",
    "    def __init__(self):\n",
    "        super(CNN, self).__init__()\n",
    "        \n",
    "        # 1 layer is conv with filters = 32, kernel = 8, strides = 2, padding = valid\n",
    "        # :input 84x84x4 \n",
    "        # :output 20x20x32\n",
    "        self.conv1 = nn.Conv2d(4, 32, stride = 2, kernel_size = 8)\n",
    "        self.conv1_bn = nn.BatchNorm2d(32)\n",
    "        \n",
    "        # 2 layer is conv with filters = 64, kernel = 4, strides = 2, padding = valid\n",
    "        # :input 20x20x32\n",
    "        # :output 9x9x64\n",
    "        self.conv2 = nn.Conv2d(32, 64, stride = 2, kernel_size = 4)\n",
    "        self.conv2_bn = nn.BatchNorm2d(64)\n",
    "        \n",
    "        # 3 layer is conv with filters = 128, kernel = 4, strides = 2, padding = valid\n",
    "        # :input 9x9x64\n",
    "        # :output 3x3x128\n",
    "        self.conv3 = nn.Conv2d(32, 128, stride = 2, kernel_size = 4)\n",
    "        self.conv3_bn = nn.BatchNorm2d(128)\n",
    "        \n",
    "        # flatten layer \n",
    "        # :input 3x3x128\n",
    "        # :output 1152\n",
    "        self.flatten = Flatten()\n",
    "        \n",
    "        # fully connected: \n",
    "        # :input 1152\n",
    "        # :output 512\n",
    "        self.fc1 =  torch.nn.Linear(1152, 512)\n",
    "        \n",
    "        # fully connected: units = 3, input = 512\n",
    "        # :input 512\n",
    "        # :output 3\n",
    "        self.fc2 = torch.nn.Linear(512, 3)\n",
    "    \n",
    "    def forward(self, x):\n",
    "        # 3 convolutions with elu activation func\n",
    "        x = F.elu(self.conv1_bn(self.conv1(x)))\n",
    "        x = F.elu(self.conv2_bn(self.conv2(x)))\n",
    "        x = F.elu(self.conv3_bn(self.conv3(x)))\n",
    "        \n",
    "        x = self.flatten(x)\n",
    "        \n",
    "        x = F.elu(self.fc1(x))\n",
    "        \n",
    "        x = self.fc2(x)\n",
    "        \n",
    "        return x\n",
    "        \n",
    "        "
   ]
  },
  {
   "cell_type": "code",
   "execution_count": 8,
   "metadata": {},
   "outputs": [
    {
     "name": "stdout",
     "output_type": "stream",
     "text": [
      "CNN (\n",
      "  (conv1): Conv2d(4, 32, kernel_size=(8, 8), stride=(2, 2))\n",
      "  (conv1_bn): BatchNorm2d(32, eps=1e-05, momentum=0.1, affine=True)\n",
      "  (conv2): Conv2d(32, 64, kernel_size=(4, 4), stride=(2, 2))\n",
      "  (conv2_bn): BatchNorm2d(64, eps=1e-05, momentum=0.1, affine=True)\n",
      "  (conv3): Conv2d(32, 128, kernel_size=(4, 4), stride=(2, 2))\n",
      "  (conv3_bn): BatchNorm2d(128, eps=1e-05, momentum=0.1, affine=True)\n",
      "  (flatten): Flatten (\n",
      "  )\n",
      "  (fc1): Linear (1152 -> 512)\n",
      "  (fc2): Linear (512 -> 3)\n",
      ")\n"
     ]
    }
   ],
   "source": [
    "net = CNN()\n",
    "print(net)"
   ]
  },
  {
   "cell_type": "code",
   "execution_count": null,
   "metadata": {},
   "outputs": [],
   "source": []
  }
 ],
 "metadata": {
  "kernelspec": {
   "display_name": "Python 3",
   "language": "python",
   "name": "python3"
  },
  "language_info": {
   "codemirror_mode": {
    "name": "ipython",
    "version": 3
   },
   "file_extension": ".py",
   "mimetype": "text/x-python",
   "name": "python",
   "nbconvert_exporter": "python",
   "pygments_lexer": "ipython3",
   "version": "3.5.2"
  }
 },
 "nbformat": 4,
 "nbformat_minor": 2
}
