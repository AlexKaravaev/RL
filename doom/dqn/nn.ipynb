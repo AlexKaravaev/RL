{
 "cells": [
  {
   "cell_type": "code",
   "execution_count": 2,
   "metadata": {},
   "outputs": [],
   "source": [
    "import torch\n",
    "import torch.nn as nn\n",
    "import torch.nn.functional as F"
   ]
  },
  {
   "cell_type": "code",
   "execution_count": 4,
   "metadata": {},
   "outputs": [],
   "source": [
    "class Flatten(nn.Module):\n",
    "    def forward(self, input):\n",
    "        return input.view(input.size(0), -1)\n",
    "\n",
    "# arch: {conv -> conv -> conv -> flatten -> fc -> fc -> q-values for actions}\n",
    "class net(nn.Module):\n",
    "    \n",
    "    def __init__(self):\n",
    "        super(Net, self).__init__()\n",
    "        \n",
    "        # 1 layer is conv with filters = 32, kernel = 8, strides = 2, padding = valid\n",
    "        # :input 84x84x4 \n",
    "        # :output 20x20x32\n",
    "        self.conv1 = nn.Conv2d(4, 32, stride = 2, kernel = 8)\n",
    "        \n",
    "        # 2 layer is conv with filters = 64, kernel = 4, strides = 2, padding = valid\n",
    "        # :input 20x20x32\n",
    "        # :output 9x9x64\n",
    "        self.conv2 = nn.Conv2d(32, 64, stride = 2, kernel = 4)\n",
    "        \n",
    "        # 3 layer is conv with filters = 128, kernel = 4, strides = 2, padding = valid\n",
    "        # :input 9x9x64\n",
    "        # :output 3x3x128\n",
    "        self.conv3 = nn.Conv2d(32, 128, stride = 2, kernel = 4)\n",
    "        \n",
    "        # flatten layer \n",
    "        self.flatten = Flatten()\n",
    "        \n",
    "        # fully connected: units = 512, input = 1152\n",
    "        self.fc1 =  torch.nn.Linear(1152, 512)\n",
    "        \n",
    "        # fully connected: units = 3, input = 512\n",
    "        self.fc2 = torch.nn.Linear(512, 3)"
   ]
  },
  {
   "cell_type": "code",
   "execution_count": null,
   "metadata": {},
   "outputs": [],
   "source": []
  }
 ],
 "metadata": {
  "kernelspec": {
   "display_name": "Python 3",
   "language": "python",
   "name": "python3"
  },
  "language_info": {
   "codemirror_mode": {
    "name": "ipython",
    "version": 3
   },
   "file_extension": ".py",
   "mimetype": "text/x-python",
   "name": "python",
   "nbconvert_exporter": "python",
   "pygments_lexer": "ipython3",
   "version": "3.6.5"
  }
 },
 "nbformat": 4,
 "nbformat_minor": 2
}
